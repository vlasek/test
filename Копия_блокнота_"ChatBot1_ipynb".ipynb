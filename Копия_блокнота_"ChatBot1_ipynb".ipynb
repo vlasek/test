{
  "nbformat": 4,
  "nbformat_minor": 0,
  "metadata": {
    "colab": {
      "name": "Копия блокнота \"ChatBot1.ipynb\"",
      "provenance": [],
      "collapsed_sections": [],
      "include_colab_link": true
    },
    "kernelspec": {
      "name": "python3",
      "display_name": "Python 3"
    },
    "language_info": {
      "name": "python"
    }
  },
  "cells": [
    {
      "cell_type": "markdown",
      "metadata": {
        "id": "view-in-github",
        "colab_type": "text"
      },
      "source": [
        "<a href=\"https://colab.research.google.com/github/vlasek/test/blob/main/%D0%9A%D0%BE%D0%BF%D0%B8%D1%8F_%D0%B1%D0%BB%D0%BE%D0%BA%D0%BD%D0%BE%D1%82%D0%B0_%22ChatBot1_ipynb%22.ipynb\" target=\"_parent\"><img src=\"https://colab.research.google.com/assets/colab-badge.svg\" alt=\"Open In Colab\"/></a>"
      ]
    },
    {
      "cell_type": "code",
      "source": [
        "import random\n",
        "import nltk"
      ],
      "metadata": {
        "id": "yPnKkf-DFuWL"
      },
      "execution_count": 6,
      "outputs": []
    },
    {
      "cell_type": "code",
      "source": [
        "BOT_CONFIG = {\n",
        "    'intents': {\n",
        "        'hello': {\n",
        "            'examples': ['Приветики', 'Здравствуй!', 'Здарова', 'Привет', 'Шалом', 'Салют', 'Салам алейкум'],\n",
        "            'responses': ['Хай!!', 'Прив', 'Хэллоу']\n",
        "        },\n",
        "        'bye': {\n",
        "            'examples': ['Пока', 'Сайонара', 'Покедова'],\n",
        "            'responses': ['До свидания', 'Увидимся', 'Пока-пока']\n",
        "        },\n",
        "        'howdoyoudo': {\n",
        "            'examples': ['Как дела?', 'Как поживаешь?', 'Как сам?'],\n",
        "            'responses': ['Классно!', 'Я живу в компьютере']\n",
        "            \n",
        "        },\n",
        "          'question': {\n",
        "             'examples': ['Мне нужна твоя помощь', 'Нужна помощь', 'Помоги','Хелп'],\n",
        "             'responses': ['Да, слушаю', 'Конечно, помогу', 'Сам не справишься?']\n",
        "            \n",
        "        },\n",
        "\n",
        "        'weather': {\n",
        "             'examples': ['Какая погода?', 'Что творится на улице?'],\n",
        "             'responses': ['Дождливо', 'Солнышко', 'Холодно', 'Ветренно', 'Не знаю']\n",
        "            \n",
        "        },\n",
        "\n",
        "          'find_number': {\n",
        "             'examples': ['Угадай число? до 5-ти', 'Отгадай число?'],\n",
        "             'responses': ['Один', 'Два', 'Три', 'Четыре', 'Пять']\n",
        "            \n",
        "        },\n",
        "\n",
        "          'seasons': {\n",
        "             'examples': ['Любимое время года?', 'Время года?'],\n",
        "             'responses': ['Зима', 'Осень', 'Лето', 'Весна', 'Люблю любое']\n",
        "            \n",
        "        },\n",
        "          'pets': {\n",
        "             'examples': ['Домашнее животное?', 'Дома кто живет?', 'Кто живет дома', 'Любимое животное'],\n",
        "             'responses': ['Кошка', 'Змея', 'Крыса', 'Собака', 'Ненавижу животных']\n",
        "            \n",
        "        },\n",
        "\n",
        "    }\n",
        "}\n",
        " "
      ],
      "metadata": {
        "id": "phVefd1vEMQ1"
      },
      "execution_count": 7,
      "outputs": []
    },
    {
      "cell_type": "code",
      "source": [
        "def clean(text):\n",
        "  cleaned_text = ''\n",
        "  for char in text.lower():\n",
        "    if char in 'абвгдеёжзийклмнопрстуфхцчшщъыьэюя':\n",
        "      cleaned_text = cleaned_text + char\n",
        "  return cleaned_text\n",
        "\n",
        "def get_intent(text):\n",
        "  for intent in BOT_CONFIG['intents'].keys():\n",
        "    for example in BOT_CONFIG['intents'][intent]['examples']:\n",
        "      clean_example = clean(example)\n",
        "      clean_text = clean(text)\n",
        "      if nltk.edit_distance(clean_example, clean_text) / max(len(clean_example), len(clean_text)) < 0.4:\n",
        "        return intent\n",
        "  return 'intent not found'\n",
        "\n",
        "def bot(text):\n",
        "  intent = get_intent(text)\n",
        "  if intent == 'intent not found':\n",
        "    return 'Я ничего не понял :('\n",
        "  else:\n",
        "    return random.choice(BOT_CONFIG['intents'][intent]['responses'])"
      ],
      "metadata": {
        "id": "tWGWvPvgFsqW"
      },
      "execution_count": 8,
      "outputs": []
    },
    {
      "cell_type": "code",
      "source": [
        "while True:\n",
        "  text = input()\n",
        "  answer = bot(text)\n",
        "  print(answer)"
      ],
      "metadata": {
        "id": "s0k7mflUMybR",
        "colab": {
          "base_uri": "https://localhost:8080/"
        },
        "outputId": "b1947cb0-0046-4f65-9e10-eed6a0f86e65"
      },
      "execution_count": null,
      "outputs": [
        {
          "output_type": "stream",
          "name": "stdout",
          "text": [
            "время года\n",
            "Зима\n",
            "како сейчас год\n",
            "Я ничего не понял :(\n"
          ]
        }
      ]
    }
  ]
}